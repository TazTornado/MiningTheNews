{
 "cells": [
  {
   "cell_type": "code",
   "execution_count": 77,
   "metadata": {},
   "outputs": [],
   "source": [
    "import matplotlib.pyplot as plt\n",
    "import pandas as pd #this is how I usually import pandas\n",
    "import sys #only needed to determine Python version number\n",
    "import matplotlib #only needed to determine Matplotlib version number\n",
    "import seaborn as sb\n",
    "from sklearn.feature_extraction.text import TfidfVectorizer\n",
    "from wordcloud import WordCloud, STOPWORDS\n",
    "from sklearn.metrics.pairwise import cosine_similarity\n",
    "from sklearn import svm\n",
    "import math\n",
    "from nltk.collocations import *\n",
    "from nltk import word_tokenize\n",
    "import nltk\n",
    "from sklearn.feature_extraction.text import CountVectorizer\n",
    "from sklearn.naive_bayes import MultinomialNB\n",
    "from sklearn.naive_bayes import CategoricalNB\n",
    "from sklearn.model_selection import cross_validate\n",
    "from sklearn.metrics import *"
   ]
  },
  {
   "cell_type": "code",
   "execution_count": 41,
   "metadata": {},
   "outputs": [],
   "source": [
    "df_train = pd.read_csv('../data/train_set.tsv', sep='\\t')\n",
    "\n",
    "df_test = pd.read_csv('../data/test_set.tsv', sep='\\t')\n",
    "\n"
   ]
  },
  {
   "cell_type": "code",
   "execution_count": 42,
   "metadata": {},
   "outputs": [
    {
     "output_type": "execute_result",
     "data": {
      "text/plain": "        Id                              Title  \\\n0     1034   Rover deal 'may cost 2,000 jobs'   \n1     1008   India calls for fair trade rules   \n2     5011  UK net users leading TV downloads   \n3     2034       Vera Drake scoops film award   \n4     5172  Gadget show heralds MP3 Christmas   \n...    ...                                ...   \n1775  5265   Half of UK's mobiles 'go online'   \n1776  2213    TV show unites Angolan families   \n1777  2214    Volcano drama erupts on BBC One   \n1778  4322             Scotland v Italy (Sat)   \n1779  1370           US manufacturing expands   \n\n                                                Content       Category  \n0     Some 2,000 jobs at MG Rover's Midlands plant m...       business  \n1     India, which attends the G7 meeting of seven l...       business  \n2     British TV viewers lead the trend of illegally...           tech  \n3     Oscar hopefuls Mike Leigh and Imelda Staunton ...  entertainment  \n4     Partners of those who love their hi-tech gear ...           tech  \n...                                                 ...            ...  \n1775  Multimedia mobile phones are finally showing s...           tech  \n1776  Angolan families who are attempting to track e...  entertainment  \n1777  Supervolcano, a docu-drama about a volcanic er...  entertainment  \n1778  Murrayfield, EdinburghSaturday, 26 February140...          sport  \n1779  US industrial production increased in December...       business  \n\n[1780 rows x 4 columns]",
      "text/html": "<div>\n<style scoped>\n    .dataframe tbody tr th:only-of-type {\n        vertical-align: middle;\n    }\n\n    .dataframe tbody tr th {\n        vertical-align: top;\n    }\n\n    .dataframe thead th {\n        text-align: right;\n    }\n</style>\n<table border=\"1\" class=\"dataframe\">\n  <thead>\n    <tr style=\"text-align: right;\">\n      <th></th>\n      <th>Id</th>\n      <th>Title</th>\n      <th>Content</th>\n      <th>Category</th>\n    </tr>\n  </thead>\n  <tbody>\n    <tr>\n      <th>0</th>\n      <td>1034</td>\n      <td>Rover deal 'may cost 2,000 jobs'</td>\n      <td>Some 2,000 jobs at MG Rover's Midlands plant m...</td>\n      <td>business</td>\n    </tr>\n    <tr>\n      <th>1</th>\n      <td>1008</td>\n      <td>India calls for fair trade rules</td>\n      <td>India, which attends the G7 meeting of seven l...</td>\n      <td>business</td>\n    </tr>\n    <tr>\n      <th>2</th>\n      <td>5011</td>\n      <td>UK net users leading TV downloads</td>\n      <td>British TV viewers lead the trend of illegally...</td>\n      <td>tech</td>\n    </tr>\n    <tr>\n      <th>3</th>\n      <td>2034</td>\n      <td>Vera Drake scoops film award</td>\n      <td>Oscar hopefuls Mike Leigh and Imelda Staunton ...</td>\n      <td>entertainment</td>\n    </tr>\n    <tr>\n      <th>4</th>\n      <td>5172</td>\n      <td>Gadget show heralds MP3 Christmas</td>\n      <td>Partners of those who love their hi-tech gear ...</td>\n      <td>tech</td>\n    </tr>\n    <tr>\n      <th>...</th>\n      <td>...</td>\n      <td>...</td>\n      <td>...</td>\n      <td>...</td>\n    </tr>\n    <tr>\n      <th>1775</th>\n      <td>5265</td>\n      <td>Half of UK's mobiles 'go online'</td>\n      <td>Multimedia mobile phones are finally showing s...</td>\n      <td>tech</td>\n    </tr>\n    <tr>\n      <th>1776</th>\n      <td>2213</td>\n      <td>TV show unites Angolan families</td>\n      <td>Angolan families who are attempting to track e...</td>\n      <td>entertainment</td>\n    </tr>\n    <tr>\n      <th>1777</th>\n      <td>2214</td>\n      <td>Volcano drama erupts on BBC One</td>\n      <td>Supervolcano, a docu-drama about a volcanic er...</td>\n      <td>entertainment</td>\n    </tr>\n    <tr>\n      <th>1778</th>\n      <td>4322</td>\n      <td>Scotland v Italy (Sat)</td>\n      <td>Murrayfield, EdinburghSaturday, 26 February140...</td>\n      <td>sport</td>\n    </tr>\n    <tr>\n      <th>1779</th>\n      <td>1370</td>\n      <td>US manufacturing expands</td>\n      <td>US industrial production increased in December...</td>\n      <td>business</td>\n    </tr>\n  </tbody>\n</table>\n<p>1780 rows × 4 columns</p>\n</div>"
     },
     "metadata": {},
     "execution_count": 42
    }
   ],
   "source": [
    "df_train"
   ]
  },
  {
   "cell_type": "markdown",
   "metadata": {},
   "source": [
    "# Wordclouds"
   ]
  },
  {
   "cell_type": "code",
   "execution_count": null,
   "metadata": {},
   "outputs": [],
   "source": [
    "cat_df = df_train.groupby('Category')['Content'].apply(lambda x: ''.join(x))\n"
   ]
  },
  {
   "cell_type": "code",
   "execution_count": null,
   "metadata": {},
   "outputs": [],
   "source": [
    "text = cat_df['business']\n",
    "\n",
    "wordcloud = WordCloud(\n",
    "    width = 3000,\n",
    "    height = 2000,\n",
    "    background_color = 'gray',\n",
    "    collocations=False,\n",
    "    stopwords = STOPWORDS).generate(str(text))\n",
    "fig = plt.figure(\n",
    "    figsize = (40, 30),\n",
    "    facecolor = 'k',\n",
    "    edgecolor = 'k')\n",
    "plt.imshow(wordcloud, interpolation = 'bilinear')\n",
    "plt.axis('off')\n",
    "plt.tight_layout(pad=0)\n",
    "plt.show()"
   ]
  },
  {
   "cell_type": "code",
   "execution_count": null,
   "metadata": {},
   "outputs": [],
   "source": [
    "text = cat_df['entertainment']\n",
    "\n",
    "wordcloud = WordCloud(\n",
    "    width = 3000,\n",
    "    height = 2000,\n",
    "    background_color = 'gray',\n",
    "    collocations=False,\n",
    "    stopwords = STOPWORDS).generate(str(text))\n",
    "fig = plt.figure(\n",
    "    figsize = (40, 30),\n",
    "    facecolor = 'k',\n",
    "    edgecolor = 'k')\n",
    "plt.imshow(wordcloud, interpolation = 'bilinear')\n",
    "plt.axis('off')\n",
    "plt.tight_layout(pad=0)\n",
    "plt.show()"
   ]
  },
  {
   "cell_type": "code",
   "execution_count": null,
   "metadata": {},
   "outputs": [],
   "source": [
    "text = cat_df['politics']\n",
    "\n",
    "wordcloud = WordCloud(\n",
    "    width = 3000,\n",
    "    height = 2000,\n",
    "    background_color = 'gray',\n",
    "    collocations=False,\n",
    "    stopwords = STOPWORDS).generate(str(text))\n",
    "fig = plt.figure(\n",
    "    figsize = (40, 30),\n",
    "    facecolor = 'k',\n",
    "    edgecolor = 'k')\n",
    "plt.imshow(wordcloud, interpolation = 'bilinear')\n",
    "plt.axis('off')\n",
    "plt.tight_layout(pad=0)\n",
    "plt.show()"
   ]
  },
  {
   "cell_type": "code",
   "execution_count": null,
   "metadata": {},
   "outputs": [],
   "source": [
    "text = cat_df['sport']\n",
    "\n",
    "wordcloud = WordCloud(\n",
    "    width = 3000,\n",
    "    height = 2000,\n",
    "    background_color = 'gray',\n",
    "    collocations=False,\n",
    "    stopwords = STOPWORDS).generate(str(text))\n",
    "fig = plt.figure(\n",
    "    figsize = (40, 30),\n",
    "    facecolor = 'k',\n",
    "    edgecolor = 'k')\n",
    "plt.imshow(wordcloud, interpolation = 'bilinear')\n",
    "plt.axis('off')\n",
    "plt.tight_layout(pad=0)\n",
    "plt.show()"
   ]
  },
  {
   "cell_type": "code",
   "execution_count": null,
   "metadata": {},
   "outputs": [],
   "source": [
    "text = cat_df['tech']\n",
    "\n",
    "wordcloud = WordCloud(\n",
    "    width = 3000,\n",
    "    height = 2000,\n",
    "    background_color = 'gray',\n",
    "    collocations=False,\n",
    "    stopwords = STOPWORDS).generate(str(text))\n",
    "fig = plt.figure(\n",
    "    figsize = (40, 30),\n",
    "    facecolor = 'k',\n",
    "    edgecolor = 'k')\n",
    "plt.imshow(wordcloud, interpolation = 'bilinear')\n",
    "plt.axis('off')\n",
    "plt.tight_layout(pad=0)\n",
    "plt.show()"
   ]
  },
  {
   "cell_type": "markdown",
   "metadata": {},
   "source": [
    "# Classification"
   ]
  },
  {
   "cell_type": "markdown",
   "metadata": {},
   "source": [
    "### Tokenization of all articles' content, to use in classification methods"
   ]
  },
  {
   "cell_type": "markdown",
   "metadata": {},
   "source": [
    "#### *Using Bag of Words*"
   ]
  },
  {
   "cell_type": "code",
   "execution_count": 23,
   "metadata": {},
   "outputs": [],
   "source": [
    "vectorizer = CountVectorizer()"
   ]
  },
  {
   "cell_type": "code",
   "execution_count": 24,
   "metadata": {},
   "outputs": [],
   "source": [
    "tokens = df_train.Content.values\n",
    "X = vectorizer.fit_transform(tokens)\n",
    "vectorizer.get_feature_names()\n",
    "X = X.toarray()"
   ]
  },
  {
   "cell_type": "code",
   "execution_count": 25,
   "metadata": {},
   "outputs": [],
   "source": [
    "test_tokens = df_test.Content.values\n",
    "X_test = vectorizer.transform(test_tokens)\n",
    "X_test = X_test.toarray()"
   ]
  },
  {
   "cell_type": "markdown",
   "metadata": {},
   "source": [
    "#### *Using TF_IDF*"
   ]
  },
  {
   "cell_type": "code",
   "execution_count": 26,
   "metadata": {},
   "outputs": [],
   "source": [
    "vectorizer2 = TfidfVectorizer(ngram_range=(1,1), stop_words= STOPWORDS)\n",
    "Z = vectorizer2.fit_transform(tokens)"
   ]
  },
  {
   "cell_type": "code",
   "execution_count": 27,
   "metadata": {},
   "outputs": [],
   "source": [
    "categories = df_train.Category.values"
   ]
  },
  {
   "cell_type": "markdown",
   "metadata": {},
   "source": [
    "## *Classification Method:* Support Vector Machine"
   ]
  },
  {
   "cell_type": "code",
   "execution_count": 28,
   "metadata": {},
   "outputs": [
    {
     "output_type": "execute_result",
     "data": {
      "text/plain": "SVC(C=1.0, break_ties=False, cache_size=200, class_weight=None, coef0=0.0,\n    decision_function_shape='ovr', degree=3, gamma='scale', kernel='linear',\n    max_iter=-1, probability=False, random_state=None, shrinking=True,\n    tol=0.001, verbose=False)"
     },
     "metadata": {},
     "execution_count": 28
    }
   ],
   "source": [
    "# parameters = {'kernel':('linear', 'rbf'), 'C':[1.0], 'gamma':'auto'}\n",
    "\n",
    "clf = svm.SVC(kernel = 'linear')\n",
    "clf.fit(X, y = categories)\n"
   ]
  },
  {
   "cell_type": "code",
   "execution_count": 29,
   "metadata": {},
   "outputs": [
    {
     "output_type": "stream",
     "name": "stdout",
     "text": "['sport']\n"
    }
   ],
   "source": [
    "print(clf.predict(X_test[127].reshape(1, -1)))"
   ]
  },
  {
   "cell_type": "markdown",
   "metadata": {},
   "source": [
    "## *Classification Method:* Naive Bayes\n",
    "### *Multinomial NB*"
   ]
  },
  {
   "cell_type": "code",
   "execution_count": 30,
   "metadata": {},
   "outputs": [
    {
     "output_type": "execute_result",
     "data": {
      "text/plain": "MultinomialNB(alpha=1.0, class_prior=None, fit_prior=True)"
     },
     "metadata": {},
     "execution_count": 30
    }
   ],
   "source": [
    "clf = MultinomialNB()\n",
    "clf.fit(X, y = categories)"
   ]
  },
  {
   "cell_type": "code",
   "execution_count": 33,
   "metadata": {},
   "outputs": [
    {
     "output_type": "stream",
     "name": "stdout",
     "text": "['business']\n"
    }
   ],
   "source": [
    "print(clf.predict(X_test[301].reshape(1,-1)))"
   ]
  },
  {
   "cell_type": "markdown",
   "metadata": {},
   "source": [
    "### *Cross Validation*"
   ]
  },
  {
   "cell_type": "code",
   "execution_count": 81,
   "metadata": {},
   "outputs": [],
   "source": [
    "score_metrics = ['f1_macro', 'precision_macro','recall_macro', 'accuracy']"
   ]
  },
  {
   "cell_type": "code",
   "execution_count": 82,
   "metadata": {},
   "outputs": [],
   "source": [
    "validation = cross_validate(estimator = clf, X = X, y = categories, scoring = score_metrics, cv = 10, n_jobs = 6)"
   ]
  },
  {
   "cell_type": "code",
   "execution_count": 83,
   "metadata": {},
   "outputs": [
    {
     "output_type": "execute_result",
     "data": {
      "text/plain": "{'fit_time': array([1.97099042, 2.66030192, 1.93930149, 2.39940977, 2.71562696,\n        2.57208204, 1.5123539 , 1.36392975, 1.23693156, 1.16146564]),\n 'score_time': array([0.02993131, 0.05465436, 0.03096032, 0.03028154, 0.06327748,\n        0.05431747, 0.02559114, 0.02994704, 0.02082372, 0.01963162]),\n 'test_f1_macro': array([0.958264  , 0.98847391, 0.97170548, 0.97796785, 0.97078313,\n        0.99454579, 0.97732065, 0.98897433, 0.98342675, 0.95789029]),\n 'test_precision_macro': array([0.95881773, 0.98857143, 0.97166833, 0.97704648, 0.97161005,\n        0.99411765, 0.97708333, 0.99069767, 0.98388889, 0.9615444 ]),\n 'test_recall_macro': array([0.95976101, 0.98887195, 0.97285363, 0.97930525, 0.97029913,\n        0.99512195, 0.9779896 , 0.98766603, 0.98345528, 0.9583112 ]),\n 'test_accuracy': array([0.96067416, 0.98876404, 0.97191011, 0.97752809, 0.97191011,\n        0.99438202, 0.97752809, 0.98876404, 0.98314607, 0.96067416])}"
     },
     "metadata": {},
     "execution_count": 83
    }
   ],
   "source": [
    "validation"
   ]
  },
  {
   "cell_type": "code",
   "execution_count": null,
   "metadata": {},
   "outputs": [],
   "source": []
  }
 ],
 "metadata": {
  "language_info": {
   "codemirror_mode": {
    "name": "ipython",
    "version": 3
   },
   "file_extension": ".py",
   "mimetype": "text/x-python",
   "name": "python",
   "nbconvert_exporter": "python",
   "pygments_lexer": "ipython3",
   "version": "3.7.6-final"
  },
  "orig_nbformat": 2,
  "kernelspec": {
   "name": "python3",
   "display_name": "Python 3"
  }
 },
 "nbformat": 4,
 "nbformat_minor": 2
}