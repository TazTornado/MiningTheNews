{
 "cells": [
  {
   "cell_type": "code",
   "execution_count": 1,
   "metadata": {},
   "outputs": [],
   "source": [
    "import matplotlib.pyplot as plt\n",
    "import pandas as pd #this is how I usually import pandas\n",
    "import sys #only needed to determine Python version number\n",
    "import matplotlib #only needed to determine Matplotlib version number\n",
    "import seaborn as sb\n",
    "from sklearn.feature_extraction.text import TfidfVectorizer\n",
    "from wordcloud import WordCloud, STOPWORDS\n",
    "from sklearn.metrics.pairwise import cosine_similarity\n",
    "from sklearn import svm\n",
    "import math\n",
    "from nltk.collocations import *\n",
    "from nltk import word_tokenize\n",
    "import nltk\n",
    "from sklearn.feature_extraction.text import CountVectorizer"
   ]
  },
  {
   "cell_type": "code",
   "execution_count": 2,
   "metadata": {},
   "outputs": [],
   "source": [
    "df_set = pd.read_csv('../data/train_set.tsv', sep='\\t')\n",
    "\n",
    "df_test = pd.read_csv('../data/test_set.tsv', sep='\\t')\n",
    "\n"
   ]
  },
  {
   "cell_type": "code",
   "execution_count": 3,
   "metadata": {},
   "outputs": [
    {
     "output_type": "execute_result",
     "data": {
      "text/plain": "        Id                              Title  \\\n0     1043     Saudi ministry to employ women   \n1     1388  Venezuela identifies 'idle' farms   \n2     1138  Winter freeze keeps oil above $50   \n3     1004  High fuel prices hit BA's profits   \n4     1017    Parmalat boasts doubled profits   \n...    ...                                ...   \n1775  5161      When technology gets personal   \n1776  5259    Apple sues 'Tiger' file sharers   \n1777  5066   Kenyan school turns to handhelds   \n1778  5321    Consumer concern over RFID tags   \n1779  5326   DVD copy protection strengthened   \n\n                                                Content  Category  \n0     Women will be employed in Saudi Arabia's forei...  business  \n1     Venezuelan authorities have identified more th...  business  \n2     Oil prices carried on rising on Wednesday afte...  business  \n3     British Airways has blamed high fuel prices fo...  business  \n4     Parmalat, the Italian food group at the centre...  business  \n...                                                 ...       ...  \n1775  In 2020, whipping out your mobile phone to mak...      tech  \n1776  Apple has taken more legal action to stop onli...      tech  \n1777  At the Mbita Point primary school in western K...      tech  \n1778  Consumers are very concerned about the use of ...      tech  \n1779  DVDs will be harder to copy thanks to new anti...      tech  \n\n[1780 rows x 4 columns]",
      "text/html": "<div>\n<style scoped>\n    .dataframe tbody tr th:only-of-type {\n        vertical-align: middle;\n    }\n\n    .dataframe tbody tr th {\n        vertical-align: top;\n    }\n\n    .dataframe thead th {\n        text-align: right;\n    }\n</style>\n<table border=\"1\" class=\"dataframe\">\n  <thead>\n    <tr style=\"text-align: right;\">\n      <th></th>\n      <th>Id</th>\n      <th>Title</th>\n      <th>Content</th>\n      <th>Category</th>\n    </tr>\n  </thead>\n  <tbody>\n    <tr>\n      <th>0</th>\n      <td>1043</td>\n      <td>Saudi ministry to employ women</td>\n      <td>Women will be employed in Saudi Arabia's forei...</td>\n      <td>business</td>\n    </tr>\n    <tr>\n      <th>1</th>\n      <td>1388</td>\n      <td>Venezuela identifies 'idle' farms</td>\n      <td>Venezuelan authorities have identified more th...</td>\n      <td>business</td>\n    </tr>\n    <tr>\n      <th>2</th>\n      <td>1138</td>\n      <td>Winter freeze keeps oil above $50</td>\n      <td>Oil prices carried on rising on Wednesday afte...</td>\n      <td>business</td>\n    </tr>\n    <tr>\n      <th>3</th>\n      <td>1004</td>\n      <td>High fuel prices hit BA's profits</td>\n      <td>British Airways has blamed high fuel prices fo...</td>\n      <td>business</td>\n    </tr>\n    <tr>\n      <th>4</th>\n      <td>1017</td>\n      <td>Parmalat boasts doubled profits</td>\n      <td>Parmalat, the Italian food group at the centre...</td>\n      <td>business</td>\n    </tr>\n    <tr>\n      <th>...</th>\n      <td>...</td>\n      <td>...</td>\n      <td>...</td>\n      <td>...</td>\n    </tr>\n    <tr>\n      <th>1775</th>\n      <td>5161</td>\n      <td>When technology gets personal</td>\n      <td>In 2020, whipping out your mobile phone to mak...</td>\n      <td>tech</td>\n    </tr>\n    <tr>\n      <th>1776</th>\n      <td>5259</td>\n      <td>Apple sues 'Tiger' file sharers</td>\n      <td>Apple has taken more legal action to stop onli...</td>\n      <td>tech</td>\n    </tr>\n    <tr>\n      <th>1777</th>\n      <td>5066</td>\n      <td>Kenyan school turns to handhelds</td>\n      <td>At the Mbita Point primary school in western K...</td>\n      <td>tech</td>\n    </tr>\n    <tr>\n      <th>1778</th>\n      <td>5321</td>\n      <td>Consumer concern over RFID tags</td>\n      <td>Consumers are very concerned about the use of ...</td>\n      <td>tech</td>\n    </tr>\n    <tr>\n      <th>1779</th>\n      <td>5326</td>\n      <td>DVD copy protection strengthened</td>\n      <td>DVDs will be harder to copy thanks to new anti...</td>\n      <td>tech</td>\n    </tr>\n  </tbody>\n</table>\n<p>1780 rows × 4 columns</p>\n</div>"
     },
     "metadata": {},
     "execution_count": 3
    }
   ],
   "source": [
    "df_set"
   ]
  },
  {
   "cell_type": "markdown",
   "metadata": {},
   "source": [
    "# Wordclouds"
   ]
  },
  {
   "cell_type": "code",
   "execution_count": null,
   "metadata": {},
   "outputs": [],
   "source": [
    "cat_df = df_set.groupby('Category')['Content'].apply(lambda x: ''.join(x))\n"
   ]
  },
  {
   "cell_type": "code",
   "execution_count": null,
   "metadata": {},
   "outputs": [],
   "source": [
    "text = cat_df['business']\n",
    "\n",
    "wordcloud = WordCloud(\n",
    "    width = 3000,\n",
    "    height = 2000,\n",
    "    background_color = 'gray',\n",
    "    collocations=False,\n",
    "    stopwords = STOPWORDS).generate(str(text))\n",
    "fig = plt.figure(\n",
    "    figsize = (40, 30),\n",
    "    facecolor = 'k',\n",
    "    edgecolor = 'k')\n",
    "plt.imshow(wordcloud, interpolation = 'bilinear')\n",
    "plt.axis('off')\n",
    "plt.tight_layout(pad=0)\n",
    "plt.show()"
   ]
  },
  {
   "cell_type": "code",
   "execution_count": null,
   "metadata": {},
   "outputs": [],
   "source": [
    "text = cat_df['entertainment']\n",
    "\n",
    "wordcloud = WordCloud(\n",
    "    width = 3000,\n",
    "    height = 2000,\n",
    "    background_color = 'gray',\n",
    "    collocations=False,\n",
    "    stopwords = STOPWORDS).generate(str(text))\n",
    "fig = plt.figure(\n",
    "    figsize = (40, 30),\n",
    "    facecolor = 'k',\n",
    "    edgecolor = 'k')\n",
    "plt.imshow(wordcloud, interpolation = 'bilinear')\n",
    "plt.axis('off')\n",
    "plt.tight_layout(pad=0)\n",
    "plt.show()"
   ]
  },
  {
   "cell_type": "code",
   "execution_count": null,
   "metadata": {},
   "outputs": [],
   "source": [
    "text = cat_df['politics']\n",
    "\n",
    "wordcloud = WordCloud(\n",
    "    width = 3000,\n",
    "    height = 2000,\n",
    "    background_color = 'gray',\n",
    "    collocations=False,\n",
    "    stopwords = STOPWORDS).generate(str(text))\n",
    "fig = plt.figure(\n",
    "    figsize = (40, 30),\n",
    "    facecolor = 'k',\n",
    "    edgecolor = 'k')\n",
    "plt.imshow(wordcloud, interpolation = 'bilinear')\n",
    "plt.axis('off')\n",
    "plt.tight_layout(pad=0)\n",
    "plt.show()"
   ]
  },
  {
   "cell_type": "code",
   "execution_count": null,
   "metadata": {},
   "outputs": [],
   "source": [
    "text = cat_df['sport']\n",
    "\n",
    "wordcloud = WordCloud(\n",
    "    width = 3000,\n",
    "    height = 2000,\n",
    "    background_color = 'gray',\n",
    "    collocations=False,\n",
    "    stopwords = STOPWORDS).generate(str(text))\n",
    "fig = plt.figure(\n",
    "    figsize = (40, 30),\n",
    "    facecolor = 'k',\n",
    "    edgecolor = 'k')\n",
    "plt.imshow(wordcloud, interpolation = 'bilinear')\n",
    "plt.axis('off')\n",
    "plt.tight_layout(pad=0)\n",
    "plt.show()"
   ]
  },
  {
   "cell_type": "code",
   "execution_count": null,
   "metadata": {},
   "outputs": [],
   "source": [
    "text = cat_df['tech']\n",
    "\n",
    "wordcloud = WordCloud(\n",
    "    width = 3000,\n",
    "    height = 2000,\n",
    "    background_color = 'gray',\n",
    "    collocations=False,\n",
    "    stopwords = STOPWORDS).generate(str(text))\n",
    "fig = plt.figure(\n",
    "    figsize = (40, 30),\n",
    "    facecolor = 'k',\n",
    "    edgecolor = 'k')\n",
    "plt.imshow(wordcloud, interpolation = 'bilinear')\n",
    "plt.axis('off')\n",
    "plt.tight_layout(pad=0)\n",
    "plt.show()"
   ]
  },
  {
   "cell_type": "markdown",
   "metadata": {},
   "source": [
    "# Classification"
   ]
  },
  {
   "cell_type": "markdown",
   "metadata": {},
   "source": [
    "### Bag of Words"
   ]
  },
  {
   "cell_type": "code",
   "execution_count": 4,
   "metadata": {},
   "outputs": [],
   "source": [
    "tokens = df_set.Content.values\n",
    "vectorizer = CountVectorizer()\n",
    "X = vectorizer.fit_transform(tokens)\n",
    "vectorizer.get_feature_names()\n",
    "X = X.toarray()"
   ]
  },
  {
   "cell_type": "code",
   "execution_count": 9,
   "metadata": {},
   "outputs": [],
   "source": [
    "vectorizer2 = TfidfVectorizer(ngram_range=(1,1), stop_words= STOPWORDS)\n",
    "Z = vectorizer2.fit_transform(tokens)"
   ]
  },
  {
   "cell_type": "code",
   "execution_count": 14,
   "metadata": {},
   "outputs": [
    {
     "output_type": "execute_result",
     "data": {
      "text/plain": "SVC(C=1.0, break_ties=False, cache_size=200, class_weight=None, coef0=0.0,\n    decision_function_shape='ovr', degree=3, gamma='scale', kernel='linear',\n    max_iter=-1, probability=False, random_state=None, shrinking=True,\n    tol=0.001, verbose=False)"
     },
     "metadata": {},
     "execution_count": 14
    }
   ],
   "source": [
    "# parameters = {'kernel':('linear', 'rbf'), 'C':[1.0], 'gamma':'auto'}\n",
    "categories = df_set.Category.values\n",
    "clf = svm.SVC(kernel = 'linear')\n",
    "clf.fit(X, y = categories)\n"
   ]
  },
  {
   "cell_type": "code",
   "execution_count": 20,
   "metadata": {},
   "outputs": [
    {
     "output_type": "stream",
     "name": "stdout",
     "text": "['entertainment']\n"
    }
   ],
   "source": [
    "test_tokens = df_test.Content.values\n",
    "X_test = vectorizer.transform(test_tokens)\n",
    "X_test = X_test.toarray()\n",
    "print(clf.predict(X_test[127].reshape(1, -1)))\n",
    "# Xtest.toarray()"
   ]
  },
  {
   "cell_type": "code",
   "execution_count": null,
   "metadata": {},
   "outputs": [],
   "source": []
  }
 ],
 "metadata": {
  "language_info": {
   "codemirror_mode": {
    "name": "ipython",
    "version": 3
   },
   "file_extension": ".py",
   "mimetype": "text/x-python",
   "name": "python",
   "nbconvert_exporter": "python",
   "pygments_lexer": "ipython3",
   "version": "3.7.6-final"
  },
  "orig_nbformat": 2,
  "kernelspec": {
   "name": "python3",
   "display_name": "Python 3"
  }
 },
 "nbformat": 4,
 "nbformat_minor": 2
}