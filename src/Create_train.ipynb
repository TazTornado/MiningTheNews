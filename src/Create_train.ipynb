{
 "cells": [
  {
   "cell_type": "code",
   "execution_count": 1,
   "metadata": {},
   "outputs": [],
   "source": [
    "import os\n",
    "import pandas as pd\n",
    "import string\n",
    "import math"
   ]
  },
  {
   "cell_type": "code",
   "execution_count": 2,
   "metadata": {},
   "outputs": [],
   "source": [
    "\n",
    "def read_file(file_info, category):\n",
    "    try:\n",
    "        lines = open(file_info[0]).read().splitlines()\n",
    "    except UnicodeDecodeError:\n",
    "        return None\n",
    "    lines = list(filter(lambda x: x != '', lines))\n",
    "    data_dict = {}\n",
    "    data_dict['Id'] = file_info[1]\n",
    "    data_dict['Title'] = [lines[0]]\n",
    "    cat = ''\n",
    "    for line in lines[1:]:\n",
    "        cat += line\n",
    "    data_dict['Content'] = [cat]\n",
    "    data_dict['Category'] = [category]\n",
    "    \n",
    "    return pd.DataFrame(data = data_dict)\n",
    "\n",
    "\n"
   ]
  },
  {
   "cell_type": "code",
   "execution_count": 7,
   "metadata": {},
   "outputs": [],
   "source": [
    "categories = ['business','entertainment', 'politics', 'sport', 'tech']\n",
    "num = 1\n",
    "\n",
    "df_set = pd.DataFrame(columns = ['Id', 'Title', 'Content', 'Category'])\n",
    "df_test = pd.DataFrame(columns = ['Id', 'Title', 'Content', 'Category'])\n",
    "\n",
    "for cat in categories:\n",
    "    filepaths = [f for f in os.listdir(\"../../data/\" + cat) if f.endswith('.txt')]\n",
    "    business_ids = [str(num) + f.split('.txt')[0] for f in filepaths ]\n",
    "    filepaths = list(map(lambda x: '../../data/' + cat + '/' + x, filepaths))\n",
    "    file_info = list(zip(filepaths, business_ids))\n",
    "\n",
    "    cat_df = pd.concat(map(lambda f: read_file(f, cat), file_info), ignore_index = True)\n",
    "\n",
    "    df_set = df_set.append(cat_df.head(math.ceil(0.8*cat_df.shape[0])), ignore_index = True)\n",
    "\n",
    "    df_test = df_test.append(cat_df.tail(math.ceil(0.2*cat_df.shape[0])), ignore_index = True)\n",
    "\n",
    "    num += 1\n",
    "\n"
   ]
  },
  {
   "cell_type": "code",
   "execution_count": 14,
   "metadata": {},
   "outputs": [
    {
     "output_type": "execute_result",
     "data": {
      "text/plain": "        Id                              Title  \\\n1200  4224     Bristol City 2-1 Milton Keynes   \n1552  5259    Apple sues 'Tiger' file sharers   \n1563  5261     Speech takes on search engines   \n1123  4498   Dent continues Adelaide progress   \n1632  5031    Solutions to net security fears   \n...    ...                                ...   \n642   2338   Howl helps boost Japan's cinemas   \n1493  5166  'Brainwave' cap controls computer   \n244   1003  Yukos unit buyer faces loan claim   \n190   1503   India's Maruti sees profits jump   \n911   3029    UK set to cut back on embassies   \n\n                                                Content       Category  \n1200  Leroy Lita took his goal tally to 13 for the s...          sport  \n1552  Apple has taken more legal action to stop onli...           tech  \n1563  A Scottish firm is looking to attract web surf...           tech  \n1123  American Taylor Dent reached the final of the ...          sport  \n1632  Fake bank e-mails, or phishing, and stories ab...           tech  \n...                                                 ...            ...  \n642   Japan's box office received a 3.8% boost last ...  entertainment  \n1493  A team of US researchers has shown that contro...           tech  \n244   The owners of embattled Russian oil giant Yuko...       business  \n190   India's biggest carmaker Maruti has reported a...       business  \n911   Nine overseas embassies and high commissions w...       politics  \n\n[1780 rows x 4 columns]",
      "text/html": "<div>\n<style scoped>\n    .dataframe tbody tr th:only-of-type {\n        vertical-align: middle;\n    }\n\n    .dataframe tbody tr th {\n        vertical-align: top;\n    }\n\n    .dataframe thead th {\n        text-align: right;\n    }\n</style>\n<table border=\"1\" class=\"dataframe\">\n  <thead>\n    <tr style=\"text-align: right;\">\n      <th></th>\n      <th>Id</th>\n      <th>Title</th>\n      <th>Content</th>\n      <th>Category</th>\n    </tr>\n  </thead>\n  <tbody>\n    <tr>\n      <th>1200</th>\n      <td>4224</td>\n      <td>Bristol City 2-1 Milton Keynes</td>\n      <td>Leroy Lita took his goal tally to 13 for the s...</td>\n      <td>sport</td>\n    </tr>\n    <tr>\n      <th>1552</th>\n      <td>5259</td>\n      <td>Apple sues 'Tiger' file sharers</td>\n      <td>Apple has taken more legal action to stop onli...</td>\n      <td>tech</td>\n    </tr>\n    <tr>\n      <th>1563</th>\n      <td>5261</td>\n      <td>Speech takes on search engines</td>\n      <td>A Scottish firm is looking to attract web surf...</td>\n      <td>tech</td>\n    </tr>\n    <tr>\n      <th>1123</th>\n      <td>4498</td>\n      <td>Dent continues Adelaide progress</td>\n      <td>American Taylor Dent reached the final of the ...</td>\n      <td>sport</td>\n    </tr>\n    <tr>\n      <th>1632</th>\n      <td>5031</td>\n      <td>Solutions to net security fears</td>\n      <td>Fake bank e-mails, or phishing, and stories ab...</td>\n      <td>tech</td>\n    </tr>\n    <tr>\n      <th>...</th>\n      <td>...</td>\n      <td>...</td>\n      <td>...</td>\n      <td>...</td>\n    </tr>\n    <tr>\n      <th>642</th>\n      <td>2338</td>\n      <td>Howl helps boost Japan's cinemas</td>\n      <td>Japan's box office received a 3.8% boost last ...</td>\n      <td>entertainment</td>\n    </tr>\n    <tr>\n      <th>1493</th>\n      <td>5166</td>\n      <td>'Brainwave' cap controls computer</td>\n      <td>A team of US researchers has shown that contro...</td>\n      <td>tech</td>\n    </tr>\n    <tr>\n      <th>244</th>\n      <td>1003</td>\n      <td>Yukos unit buyer faces loan claim</td>\n      <td>The owners of embattled Russian oil giant Yuko...</td>\n      <td>business</td>\n    </tr>\n    <tr>\n      <th>190</th>\n      <td>1503</td>\n      <td>India's Maruti sees profits jump</td>\n      <td>India's biggest carmaker Maruti has reported a...</td>\n      <td>business</td>\n    </tr>\n    <tr>\n      <th>911</th>\n      <td>3029</td>\n      <td>UK set to cut back on embassies</td>\n      <td>Nine overseas embassies and high commissions w...</td>\n      <td>politics</td>\n    </tr>\n  </tbody>\n</table>\n<p>1780 rows × 4 columns</p>\n</div>"
     },
     "metadata": {},
     "execution_count": 14
    }
   ],
   "source": [
    "# shuffle the dataframe so that the articles' categories are mixed up\n",
    "df_set = df_set.sample(frac = 1)\n",
    "df_set"
   ]
  },
  {
   "cell_type": "code",
   "execution_count": 16,
   "metadata": {},
   "outputs": [
    {
     "output_type": "execute_result",
     "data": {
      "text/plain": "       Id                              Title  \\\n442  5209  Man auctions ad space on forehead   \n90   1409    UK bank seals South Korean deal   \n126  2275  The Producers scoops stage awards   \n120  2308  Tautou 'to star in Da Vinci film'   \n67   1341   Jarvis sells Tube stake to Spain   \n..    ...                                ...   \n371  5058   BT boosts its broadband packages   \n404  5254   Broadband in the UK gathers pace   \n416  5264            Broadband soars in 2004   \n235  3417    Lib Dems unveil election slogan   \n412  5035    Iran jails blogger for 14 years   \n\n                                               Content  \n442  A 20-year-old US man is selling advertising sp...  \n90   UK-based bank Standard Chartered said it would...  \n126  The Producers has beaten Mary Poppins in the b...  \n120  French actress Audrey Tautou, star of hit film...  \n67   Shares in engineering group Jarvis have soared...  \n..                                                 ...  \n371  British Telecom has said it will double the br...  \n404  One person in the UK is joining the internet's...  \n416  If broadband were a jumbo jet, then 2003 would...  \n235  The Liberal Democrats will present themselves ...  \n412  An Iranian weblogger has been jailed for 14 ye...  \n\n[447 rows x 3 columns]",
      "text/html": "<div>\n<style scoped>\n    .dataframe tbody tr th:only-of-type {\n        vertical-align: middle;\n    }\n\n    .dataframe tbody tr th {\n        vertical-align: top;\n    }\n\n    .dataframe thead th {\n        text-align: right;\n    }\n</style>\n<table border=\"1\" class=\"dataframe\">\n  <thead>\n    <tr style=\"text-align: right;\">\n      <th></th>\n      <th>Id</th>\n      <th>Title</th>\n      <th>Content</th>\n    </tr>\n  </thead>\n  <tbody>\n    <tr>\n      <th>442</th>\n      <td>5209</td>\n      <td>Man auctions ad space on forehead</td>\n      <td>A 20-year-old US man is selling advertising sp...</td>\n    </tr>\n    <tr>\n      <th>90</th>\n      <td>1409</td>\n      <td>UK bank seals South Korean deal</td>\n      <td>UK-based bank Standard Chartered said it would...</td>\n    </tr>\n    <tr>\n      <th>126</th>\n      <td>2275</td>\n      <td>The Producers scoops stage awards</td>\n      <td>The Producers has beaten Mary Poppins in the b...</td>\n    </tr>\n    <tr>\n      <th>120</th>\n      <td>2308</td>\n      <td>Tautou 'to star in Da Vinci film'</td>\n      <td>French actress Audrey Tautou, star of hit film...</td>\n    </tr>\n    <tr>\n      <th>67</th>\n      <td>1341</td>\n      <td>Jarvis sells Tube stake to Spain</td>\n      <td>Shares in engineering group Jarvis have soared...</td>\n    </tr>\n    <tr>\n      <th>...</th>\n      <td>...</td>\n      <td>...</td>\n      <td>...</td>\n    </tr>\n    <tr>\n      <th>371</th>\n      <td>5058</td>\n      <td>BT boosts its broadband packages</td>\n      <td>British Telecom has said it will double the br...</td>\n    </tr>\n    <tr>\n      <th>404</th>\n      <td>5254</td>\n      <td>Broadband in the UK gathers pace</td>\n      <td>One person in the UK is joining the internet's...</td>\n    </tr>\n    <tr>\n      <th>416</th>\n      <td>5264</td>\n      <td>Broadband soars in 2004</td>\n      <td>If broadband were a jumbo jet, then 2003 would...</td>\n    </tr>\n    <tr>\n      <th>235</th>\n      <td>3417</td>\n      <td>Lib Dems unveil election slogan</td>\n      <td>The Liberal Democrats will present themselves ...</td>\n    </tr>\n    <tr>\n      <th>412</th>\n      <td>5035</td>\n      <td>Iran jails blogger for 14 years</td>\n      <td>An Iranian weblogger has been jailed for 14 ye...</td>\n    </tr>\n  </tbody>\n</table>\n<p>447 rows × 3 columns</p>\n</div>"
     },
     "metadata": {},
     "execution_count": 16
    }
   ],
   "source": [
    "# shuffle the dataframe so that the articles' categories are mixed up, then drop the 'Category' column\n",
    "df_test = df_test.sample(frac = 1)\n",
    "df_test = df_test.drop(columns = 'Category')\n",
    "df_test"
   ]
  },
  {
   "cell_type": "code",
   "execution_count": 17,
   "metadata": {},
   "outputs": [],
   "source": [
    "path_set = r'../data/train_set.tsv'\n",
    "df_set.to_csv(path_set, sep = '\\t', index = False)\n",
    "\n",
    "path_test = r'../data/test_set.tsv'\n",
    "df_test.to_csv(path_test, sep = '\\t', index = False)"
   ]
  },
  {
   "cell_type": "code",
   "execution_count": null,
   "metadata": {},
   "outputs": [],
   "source": []
  }
 ],
 "metadata": {
  "language_info": {
   "codemirror_mode": {
    "name": "ipython",
    "version": 3
   },
   "file_extension": ".py",
   "mimetype": "text/x-python",
   "name": "python",
   "nbconvert_exporter": "python",
   "pygments_lexer": "ipython3",
   "version": "3.7.6-final"
  },
  "orig_nbformat": 2,
  "kernelspec": {
   "name": "python3",
   "display_name": "Python 3"
  }
 },
 "nbformat": 4,
 "nbformat_minor": 2
}