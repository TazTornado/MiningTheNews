{
 "cells": [
  {
   "cell_type": "markdown",
   "metadata": {},
   "source": [
    "## Data Mining Assignment 2\n",
    "#### *Daridis Ioannis 1115201700028*\n",
    "#### *Pantazi Sotiria 1115201700241*"
   ]
  },
  {
   "cell_type": "code",
   "execution_count": 1,
   "metadata": {},
   "outputs": [],
   "source": [
    "import os\n",
    "import pandas as pd\n",
    "import string\n",
    "import math"
   ]
  },
  {
   "cell_type": "code",
   "execution_count": 2,
   "metadata": {},
   "outputs": [],
   "source": [
    "\n",
    "def read_file(file_info, category):\n",
    "    try:\n",
    "        lines = open(file_info[0]).read().splitlines()\n",
    "    except UnicodeDecodeError:\n",
    "        return None\n",
    "    lines = list(filter(lambda x: x != '', lines))\n",
    "    data_dict = {}\n",
    "    data_dict['Id'] = file_info[1]\n",
    "    data_dict['Title'] = [lines[0]]\n",
    "    cat = ''\n",
    "    for line in lines[1:]:\n",
    "        cat += line\n",
    "    data_dict['Content'] = [cat]\n",
    "    data_dict['Category'] = [category]\n",
    "    \n",
    "    return pd.DataFrame(data = data_dict)\n",
    "\n",
    "\n"
   ]
  },
  {
   "cell_type": "code",
   "execution_count": 3,
   "metadata": {},
   "outputs": [],
   "source": [
    "categories = ['business','entertainment', 'politics', 'sport', 'tech']\n",
    "num = 1\n",
    "\n",
    "df_train = pd.DataFrame(columns = ['Id', 'Title', 'Content', 'Category'])\n",
    "df_test = pd.DataFrame(columns = ['Id', 'Title', 'Content', 'Category'])\n",
    "\n",
    "for cat in categories:\n",
    "    filepaths = [f for f in os.listdir(\"../../data/\" + cat) if f.endswith('.txt')]\n",
    "    business_ids = [str(num) + f.split('.txt')[0] for f in filepaths ]\n",
    "    filepaths = list(map(lambda x: '../../data/' + cat + '/' + x, filepaths))\n",
    "    file_info = list(zip(filepaths, business_ids))\n",
    "\n",
    "    cat_df = pd.concat(map(lambda f: read_file(f, cat), file_info), ignore_index = True)\n",
    "\n",
    "    df_train = df_train.append(cat_df.head(math.ceil(0.8*cat_df.shape[0])), ignore_index = True)\n",
    "\n",
    "    df_test = df_test.append(cat_df.tail(math.ceil(0.2*cat_df.shape[0])), ignore_index = True)\n",
    "\n",
    "    num += 1\n",
    "\n"
   ]
  },
  {
   "cell_type": "code",
   "execution_count": 4,
   "metadata": {},
   "outputs": [
    {
     "output_type": "execute_result",
     "data": {
      "text/plain": "        Id                              Title  \\\n58    1295  Business confidence dips in Japan   \n281   1108    Slowdown hits US factory growth   \n1550  5291  Doors open at biggest gadget fair   \n452   2366  Bollywood DVD fraudster is jailed   \n1699  5145   Musicians 'upbeat' about the net   \n...    ...                                ...   \n1603  5215  Europe backs digital TV lifestyle   \n502   2024  Paraguay novel wins US book prize   \n537   2081   Oscars race enters final furlong   \n1220  4127    Kewell waits as injury drags on   \n175   1142    Asian banks halt dollar's slide   \n\n                                                Content       Category  \n58    Business confidence among Japanese manufacture...       business  \n281   US industrial production increased for the 21s...       business  \n1550  Thousands of technology lovers and industry ex...           tech  \n452   A major distributor of pirated DVDs of Bollywo...  entertainment  \n1699  Musicians are embracing the internet as a way ...           tech  \n...                                                 ...            ...  \n1603  How people receive their digital entertainment...           tech  \n502   A novel set in 19th century Paraguay has won t...  entertainment  \n537   The race for the Oscars entered its final stag...  entertainment  \n1220  Liverpool winger Harry Kewell is struggling to...          sport  \n175   The dollar regained some lost ground against m...       business  \n\n[1780 rows x 4 columns]",
      "text/html": "<div>\n<style scoped>\n    .dataframe tbody tr th:only-of-type {\n        vertical-align: middle;\n    }\n\n    .dataframe tbody tr th {\n        vertical-align: top;\n    }\n\n    .dataframe thead th {\n        text-align: right;\n    }\n</style>\n<table border=\"1\" class=\"dataframe\">\n  <thead>\n    <tr style=\"text-align: right;\">\n      <th></th>\n      <th>Id</th>\n      <th>Title</th>\n      <th>Content</th>\n      <th>Category</th>\n    </tr>\n  </thead>\n  <tbody>\n    <tr>\n      <th>58</th>\n      <td>1295</td>\n      <td>Business confidence dips in Japan</td>\n      <td>Business confidence among Japanese manufacture...</td>\n      <td>business</td>\n    </tr>\n    <tr>\n      <th>281</th>\n      <td>1108</td>\n      <td>Slowdown hits US factory growth</td>\n      <td>US industrial production increased for the 21s...</td>\n      <td>business</td>\n    </tr>\n    <tr>\n      <th>1550</th>\n      <td>5291</td>\n      <td>Doors open at biggest gadget fair</td>\n      <td>Thousands of technology lovers and industry ex...</td>\n      <td>tech</td>\n    </tr>\n    <tr>\n      <th>452</th>\n      <td>2366</td>\n      <td>Bollywood DVD fraudster is jailed</td>\n      <td>A major distributor of pirated DVDs of Bollywo...</td>\n      <td>entertainment</td>\n    </tr>\n    <tr>\n      <th>1699</th>\n      <td>5145</td>\n      <td>Musicians 'upbeat' about the net</td>\n      <td>Musicians are embracing the internet as a way ...</td>\n      <td>tech</td>\n    </tr>\n    <tr>\n      <th>...</th>\n      <td>...</td>\n      <td>...</td>\n      <td>...</td>\n      <td>...</td>\n    </tr>\n    <tr>\n      <th>1603</th>\n      <td>5215</td>\n      <td>Europe backs digital TV lifestyle</td>\n      <td>How people receive their digital entertainment...</td>\n      <td>tech</td>\n    </tr>\n    <tr>\n      <th>502</th>\n      <td>2024</td>\n      <td>Paraguay novel wins US book prize</td>\n      <td>A novel set in 19th century Paraguay has won t...</td>\n      <td>entertainment</td>\n    </tr>\n    <tr>\n      <th>537</th>\n      <td>2081</td>\n      <td>Oscars race enters final furlong</td>\n      <td>The race for the Oscars entered its final stag...</td>\n      <td>entertainment</td>\n    </tr>\n    <tr>\n      <th>1220</th>\n      <td>4127</td>\n      <td>Kewell waits as injury drags on</td>\n      <td>Liverpool winger Harry Kewell is struggling to...</td>\n      <td>sport</td>\n    </tr>\n    <tr>\n      <th>175</th>\n      <td>1142</td>\n      <td>Asian banks halt dollar's slide</td>\n      <td>The dollar regained some lost ground against m...</td>\n      <td>business</td>\n    </tr>\n  </tbody>\n</table>\n<p>1780 rows × 4 columns</p>\n</div>"
     },
     "metadata": {},
     "execution_count": 4
    }
   ],
   "source": [
    "# shuffle the dataframe so that the articles' categories are mixed up\n",
    "df_train = df_train.sample(frac = 1, random_state = 7)\n",
    "df_train"
   ]
  },
  {
   "cell_type": "code",
   "execution_count": 5,
   "metadata": {},
   "outputs": [
    {
     "output_type": "execute_result",
     "data": {
      "text/plain": "       Id                              Title  \\\n259  3346         Labour's four little words   \n109  2237  Singer Knight backs anti-gun song   \n60   1244   Market unfazed by Aurora setback   \n330  4065   Radcliffe will compete in London   \n170  2190  Veteran comic Cyril Fletcher dies   \n..    ...                                ...   \n211  3235    Lib Dems' new election PR chief   \n67   1436  ECB holds rates amid growth fears   \n25   1364    Durex maker SSL awaits firm bid   \n196  3023   E-University 'disgraceful waste'   \n175  2346  Abba queen enters music rich list   \n\n                                               Content       Category  \n259  Labour has unveiled the four little words that...       politics  \n109  R&B star Beverley Knight said she sang on an a...  entertainment  \n60   As the Aurora limped back to its dock on 20 Ja...       business  \n330  Paula Radcliffe will compete in the Flora Lond...          sport  \n170  Veteran comedian and broadcaster Cyril Fletche...  entertainment  \n..                                                 ...            ...  \n211  The Lib Dems have appointed a senior figure fr...       politics  \n67   The European Central Bank has left its key int...       business  \n25   UK condom maker SSL International has refused ...       business  \n196  A failed government scheme to offer UK univers...       politics  \n175  The woman behind the Abba musical Mamma Mia! h...  entertainment  \n\n[447 rows x 4 columns]",
      "text/html": "<div>\n<style scoped>\n    .dataframe tbody tr th:only-of-type {\n        vertical-align: middle;\n    }\n\n    .dataframe tbody tr th {\n        vertical-align: top;\n    }\n\n    .dataframe thead th {\n        text-align: right;\n    }\n</style>\n<table border=\"1\" class=\"dataframe\">\n  <thead>\n    <tr style=\"text-align: right;\">\n      <th></th>\n      <th>Id</th>\n      <th>Title</th>\n      <th>Content</th>\n      <th>Category</th>\n    </tr>\n  </thead>\n  <tbody>\n    <tr>\n      <th>259</th>\n      <td>3346</td>\n      <td>Labour's four little words</td>\n      <td>Labour has unveiled the four little words that...</td>\n      <td>politics</td>\n    </tr>\n    <tr>\n      <th>109</th>\n      <td>2237</td>\n      <td>Singer Knight backs anti-gun song</td>\n      <td>R&amp;B star Beverley Knight said she sang on an a...</td>\n      <td>entertainment</td>\n    </tr>\n    <tr>\n      <th>60</th>\n      <td>1244</td>\n      <td>Market unfazed by Aurora setback</td>\n      <td>As the Aurora limped back to its dock on 20 Ja...</td>\n      <td>business</td>\n    </tr>\n    <tr>\n      <th>330</th>\n      <td>4065</td>\n      <td>Radcliffe will compete in London</td>\n      <td>Paula Radcliffe will compete in the Flora Lond...</td>\n      <td>sport</td>\n    </tr>\n    <tr>\n      <th>170</th>\n      <td>2190</td>\n      <td>Veteran comic Cyril Fletcher dies</td>\n      <td>Veteran comedian and broadcaster Cyril Fletche...</td>\n      <td>entertainment</td>\n    </tr>\n    <tr>\n      <th>...</th>\n      <td>...</td>\n      <td>...</td>\n      <td>...</td>\n      <td>...</td>\n    </tr>\n    <tr>\n      <th>211</th>\n      <td>3235</td>\n      <td>Lib Dems' new election PR chief</td>\n      <td>The Lib Dems have appointed a senior figure fr...</td>\n      <td>politics</td>\n    </tr>\n    <tr>\n      <th>67</th>\n      <td>1436</td>\n      <td>ECB holds rates amid growth fears</td>\n      <td>The European Central Bank has left its key int...</td>\n      <td>business</td>\n    </tr>\n    <tr>\n      <th>25</th>\n      <td>1364</td>\n      <td>Durex maker SSL awaits firm bid</td>\n      <td>UK condom maker SSL International has refused ...</td>\n      <td>business</td>\n    </tr>\n    <tr>\n      <th>196</th>\n      <td>3023</td>\n      <td>E-University 'disgraceful waste'</td>\n      <td>A failed government scheme to offer UK univers...</td>\n      <td>politics</td>\n    </tr>\n    <tr>\n      <th>175</th>\n      <td>2346</td>\n      <td>Abba queen enters music rich list</td>\n      <td>The woman behind the Abba musical Mamma Mia! h...</td>\n      <td>entertainment</td>\n    </tr>\n  </tbody>\n</table>\n<p>447 rows × 4 columns</p>\n</div>"
     },
     "metadata": {},
     "execution_count": 5
    }
   ],
   "source": [
    "# shuffle the dataframe so that the articles' categories are mixed up, then drop the 'Category' column\n",
    "df_test = df_test.sample(frac = 1, random_state = 7)\n",
    "# df_test = df_test.drop(columns = 'Category')\n",
    "df_test"
   ]
  },
  {
   "cell_type": "code",
   "execution_count": 6,
   "metadata": {},
   "outputs": [],
   "source": [
    "path_train = r'../data/train_set.tsv'\n",
    "df_train.to_csv(path_train, sep = '\\t', index = False)\n",
    "\n",
    "path_test = r'../data/test_set.tsv'\n",
    "df_test.to_csv(path_test, sep = '\\t', index = False)"
   ]
  },
  {
   "cell_type": "code",
   "execution_count": null,
   "metadata": {},
   "outputs": [],
   "source": []
  }
 ],
 "metadata": {
  "language_info": {
   "codemirror_mode": {
    "name": "ipython",
    "version": 3
   },
   "file_extension": ".py",
   "mimetype": "text/x-python",
   "name": "python",
   "nbconvert_exporter": "python",
   "pygments_lexer": "ipython3",
   "version": "3.7.6-final"
  },
  "orig_nbformat": 2,
  "kernelspec": {
   "name": "python37664bitanaconda3virtualenve48a08c970734d0abb341122f91597c4",
   "display_name": "Python 3.7.6 64-bit ('anaconda3': virtualenv)"
  }
 },
 "nbformat": 4,
 "nbformat_minor": 2
}