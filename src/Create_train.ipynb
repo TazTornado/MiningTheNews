{
 "cells": [
  {
   "cell_type": "code",
   "execution_count": 1,
   "metadata": {},
   "outputs": [],
   "source": [
    "import os\n",
    "import pandas as pd\n",
    "import string\n",
    "import math"
   ]
  },
  {
   "cell_type": "code",
   "execution_count": 2,
   "metadata": {},
   "outputs": [],
   "source": [
    "\n",
    "def read_file(file_info, category):\n",
    "    try:\n",
    "        lines = open(file_info[0]).read().splitlines()\n",
    "    except UnicodeDecodeError:\n",
    "        return None\n",
    "    lines = list(filter(lambda x: x != '', lines))\n",
    "    data_dict = {}\n",
    "    data_dict['Id'] = file_info[1]\n",
    "    data_dict['Title'] = [lines[0]]\n",
    "    cat = ''\n",
    "    for line in lines[1:]:\n",
    "        cat += line\n",
    "    data_dict['Content'] = [cat]\n",
    "    data_dict['Category'] = [category]\n",
    "    \n",
    "    return pd.DataFrame(data = data_dict)\n",
    "\n",
    "\n"
   ]
  },
  {
   "cell_type": "code",
   "execution_count": 3,
   "metadata": {},
   "outputs": [],
   "source": [
    "categories = ['business','entertainment', 'politics', 'sport', 'tech']\n",
    "num = 1\n",
    "\n",
    "df_set = pd.DataFrame(columns = ['Id', 'Title', 'Content', 'Category'])\n",
    "df_test = pd.DataFrame(columns = ['Id', 'Title', 'Content', 'Category'])\n",
    "\n",
    "for cat in categories:\n",
    "    filepaths = [f for f in os.listdir(\"../../data/\" + cat) if f.endswith('.txt')]\n",
    "    business_ids = [str(num) + f.split('.txt')[0] for f in filepaths ]\n",
    "    filepaths = list(map(lambda x: '../../data/' + cat + '/' + x, filepaths))\n",
    "    file_info = list(zip(filepaths, business_ids))\n",
    "\n",
    "    cat_df = pd.concat(map(lambda f: read_file(f, cat), file_info), ignore_index = True)\n",
    "\n",
    "    df_set = df_set.append(cat_df.head(math.ceil(0.8*cat_df.shape[0])), ignore_index = True)\n",
    "\n",
    "    df_test = df_test.append(cat_df.tail(math.ceil(0.2*cat_df.shape[0])), ignore_index = True)\n",
    "\n",
    "    num += 1\n",
    "\n"
   ]
  },
  {
   "cell_type": "code",
   "execution_count": 4,
   "metadata": {},
   "outputs": [
    {
     "output_type": "execute_result",
     "data": {
      "text/plain": "        Id                              Title  \\\n0     1043     Saudi ministry to employ women   \n1     1388  Venezuela identifies 'idle' farms   \n2     1138  Winter freeze keeps oil above $50   \n3     1004  High fuel prices hit BA's profits   \n4     1017    Parmalat boasts doubled profits   \n...    ...                                ...   \n1775  5161      When technology gets personal   \n1776  5259    Apple sues 'Tiger' file sharers   \n1777  5066   Kenyan school turns to handhelds   \n1778  5321    Consumer concern over RFID tags   \n1779  5326   DVD copy protection strengthened   \n\n                                                Content  Category  \n0     Women will be employed in Saudi Arabia's forei...  business  \n1     Venezuelan authorities have identified more th...  business  \n2     Oil prices carried on rising on Wednesday afte...  business  \n3     British Airways has blamed high fuel prices fo...  business  \n4     Parmalat, the Italian food group at the centre...  business  \n...                                                 ...       ...  \n1775  In 2020, whipping out your mobile phone to mak...      tech  \n1776  Apple has taken more legal action to stop onli...      tech  \n1777  At the Mbita Point primary school in western K...      tech  \n1778  Consumers are very concerned about the use of ...      tech  \n1779  DVDs will be harder to copy thanks to new anti...      tech  \n\n[1780 rows x 4 columns]",
      "text/html": "<div>\n<style scoped>\n    .dataframe tbody tr th:only-of-type {\n        vertical-align: middle;\n    }\n\n    .dataframe tbody tr th {\n        vertical-align: top;\n    }\n\n    .dataframe thead th {\n        text-align: right;\n    }\n</style>\n<table border=\"1\" class=\"dataframe\">\n  <thead>\n    <tr style=\"text-align: right;\">\n      <th></th>\n      <th>Id</th>\n      <th>Title</th>\n      <th>Content</th>\n      <th>Category</th>\n    </tr>\n  </thead>\n  <tbody>\n    <tr>\n      <th>0</th>\n      <td>1043</td>\n      <td>Saudi ministry to employ women</td>\n      <td>Women will be employed in Saudi Arabia's forei...</td>\n      <td>business</td>\n    </tr>\n    <tr>\n      <th>1</th>\n      <td>1388</td>\n      <td>Venezuela identifies 'idle' farms</td>\n      <td>Venezuelan authorities have identified more th...</td>\n      <td>business</td>\n    </tr>\n    <tr>\n      <th>2</th>\n      <td>1138</td>\n      <td>Winter freeze keeps oil above $50</td>\n      <td>Oil prices carried on rising on Wednesday afte...</td>\n      <td>business</td>\n    </tr>\n    <tr>\n      <th>3</th>\n      <td>1004</td>\n      <td>High fuel prices hit BA's profits</td>\n      <td>British Airways has blamed high fuel prices fo...</td>\n      <td>business</td>\n    </tr>\n    <tr>\n      <th>4</th>\n      <td>1017</td>\n      <td>Parmalat boasts doubled profits</td>\n      <td>Parmalat, the Italian food group at the centre...</td>\n      <td>business</td>\n    </tr>\n    <tr>\n      <th>...</th>\n      <td>...</td>\n      <td>...</td>\n      <td>...</td>\n      <td>...</td>\n    </tr>\n    <tr>\n      <th>1775</th>\n      <td>5161</td>\n      <td>When technology gets personal</td>\n      <td>In 2020, whipping out your mobile phone to mak...</td>\n      <td>tech</td>\n    </tr>\n    <tr>\n      <th>1776</th>\n      <td>5259</td>\n      <td>Apple sues 'Tiger' file sharers</td>\n      <td>Apple has taken more legal action to stop onli...</td>\n      <td>tech</td>\n    </tr>\n    <tr>\n      <th>1777</th>\n      <td>5066</td>\n      <td>Kenyan school turns to handhelds</td>\n      <td>At the Mbita Point primary school in western K...</td>\n      <td>tech</td>\n    </tr>\n    <tr>\n      <th>1778</th>\n      <td>5321</td>\n      <td>Consumer concern over RFID tags</td>\n      <td>Consumers are very concerned about the use of ...</td>\n      <td>tech</td>\n    </tr>\n    <tr>\n      <th>1779</th>\n      <td>5326</td>\n      <td>DVD copy protection strengthened</td>\n      <td>DVDs will be harder to copy thanks to new anti...</td>\n      <td>tech</td>\n    </tr>\n  </tbody>\n</table>\n<p>1780 rows × 4 columns</p>\n</div>"
     },
     "metadata": {},
     "execution_count": 4
    }
   ],
   "source": [
    "df_set"
   ]
  },
  {
   "cell_type": "code",
   "execution_count": 5,
   "metadata": {},
   "outputs": [
    {
     "output_type": "execute_result",
     "data": {
      "text/plain": "       Id                              Title  \\\n0    1066  German business confidence slides   \n1    1321         Diageo to buy US wine firm   \n2    1326    Senior Fannie Mae bosses resign   \n3    1158   Qatar and Shell in $6bn gas deal   \n4    1209    Mixed reaction to Man Utd offer   \n..    ...                                ...   \n442  5346  Warnings on woeful wi-fi security   \n443  5264            Broadband soars in 2004   \n444  5279  Speak easy plan for media players   \n445  5281          Cyber crime booms in 2004   \n446  5288        Big war games battle it out   \n\n                                               Content  Category  \n0    German business confidence fell in February kn...  business  \n1    Diageo, the world's biggest spirits company, h...  business  \n2    The two most senior executives at US mortgage ...  business  \n3    Shell has signed a $6bn (£3.12bn) deal with th...  business  \n4    Shares in Manchester United were up over 5% by...  business  \n..                                                 ...       ...  \n442  Companies are getting worse at keeping their w...      tech  \n443  If broadband were a jumbo jet, then 2003 would...      tech  \n444  Music and film fans will be able to control th...      tech  \n445  The last 12 months have seen a dramatic growth...      tech  \n446  The arrival of new titles in the popular Medal...      tech  \n\n[447 rows x 4 columns]",
      "text/html": "<div>\n<style scoped>\n    .dataframe tbody tr th:only-of-type {\n        vertical-align: middle;\n    }\n\n    .dataframe tbody tr th {\n        vertical-align: top;\n    }\n\n    .dataframe thead th {\n        text-align: right;\n    }\n</style>\n<table border=\"1\" class=\"dataframe\">\n  <thead>\n    <tr style=\"text-align: right;\">\n      <th></th>\n      <th>Id</th>\n      <th>Title</th>\n      <th>Content</th>\n      <th>Category</th>\n    </tr>\n  </thead>\n  <tbody>\n    <tr>\n      <th>0</th>\n      <td>1066</td>\n      <td>German business confidence slides</td>\n      <td>German business confidence fell in February kn...</td>\n      <td>business</td>\n    </tr>\n    <tr>\n      <th>1</th>\n      <td>1321</td>\n      <td>Diageo to buy US wine firm</td>\n      <td>Diageo, the world's biggest spirits company, h...</td>\n      <td>business</td>\n    </tr>\n    <tr>\n      <th>2</th>\n      <td>1326</td>\n      <td>Senior Fannie Mae bosses resign</td>\n      <td>The two most senior executives at US mortgage ...</td>\n      <td>business</td>\n    </tr>\n    <tr>\n      <th>3</th>\n      <td>1158</td>\n      <td>Qatar and Shell in $6bn gas deal</td>\n      <td>Shell has signed a $6bn (£3.12bn) deal with th...</td>\n      <td>business</td>\n    </tr>\n    <tr>\n      <th>4</th>\n      <td>1209</td>\n      <td>Mixed reaction to Man Utd offer</td>\n      <td>Shares in Manchester United were up over 5% by...</td>\n      <td>business</td>\n    </tr>\n    <tr>\n      <th>...</th>\n      <td>...</td>\n      <td>...</td>\n      <td>...</td>\n      <td>...</td>\n    </tr>\n    <tr>\n      <th>442</th>\n      <td>5346</td>\n      <td>Warnings on woeful wi-fi security</td>\n      <td>Companies are getting worse at keeping their w...</td>\n      <td>tech</td>\n    </tr>\n    <tr>\n      <th>443</th>\n      <td>5264</td>\n      <td>Broadband soars in 2004</td>\n      <td>If broadband were a jumbo jet, then 2003 would...</td>\n      <td>tech</td>\n    </tr>\n    <tr>\n      <th>444</th>\n      <td>5279</td>\n      <td>Speak easy plan for media players</td>\n      <td>Music and film fans will be able to control th...</td>\n      <td>tech</td>\n    </tr>\n    <tr>\n      <th>445</th>\n      <td>5281</td>\n      <td>Cyber crime booms in 2004</td>\n      <td>The last 12 months have seen a dramatic growth...</td>\n      <td>tech</td>\n    </tr>\n    <tr>\n      <th>446</th>\n      <td>5288</td>\n      <td>Big war games battle it out</td>\n      <td>The arrival of new titles in the popular Medal...</td>\n      <td>tech</td>\n    </tr>\n  </tbody>\n</table>\n<p>447 rows × 4 columns</p>\n</div>"
     },
     "metadata": {},
     "execution_count": 5
    }
   ],
   "source": [
    "# df_test = df_test.drop(columns = 'Category')\n",
    "df_test"
   ]
  },
  {
   "cell_type": "code",
   "execution_count": 6,
   "metadata": {},
   "outputs": [],
   "source": [
    "path_set = r'../data/train_set.tsv'\n",
    "df_set.to_csv(path_set, sep = '\\t', index = False)\n",
    "\n",
    "path_test = r'../data/test_set.tsv'\n",
    "df_test.to_csv(path_test, sep = '\\t', index = False)"
   ]
  },
  {
   "cell_type": "code",
   "execution_count": null,
   "metadata": {},
   "outputs": [],
   "source": []
  }
 ],
 "metadata": {
  "language_info": {
   "codemirror_mode": {
    "name": "ipython",
    "version": 3
   },
   "file_extension": ".py",
   "mimetype": "text/x-python",
   "name": "python",
   "nbconvert_exporter": "python",
   "pygments_lexer": "ipython3",
   "version": "3.7.6-final"
  },
  "orig_nbformat": 2,
  "kernelspec": {
   "name": "python3",
   "display_name": "Python 3"
  }
 },
 "nbformat": 4,
 "nbformat_minor": 2
}