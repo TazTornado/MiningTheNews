{
 "cells": [
  {
   "cell_type": "code",
   "execution_count": 21,
   "metadata": {},
   "outputs": [],
   "source": [
    "import os\n",
    "import pandas as pd\n",
    "import string\n",
    "import math"
   ]
  },
  {
   "cell_type": "code",
   "execution_count": 22,
   "metadata": {},
   "outputs": [],
   "source": [
    "\n",
    "def read_file(file_info, category):\n",
    "    try:\n",
    "        lines = open(file_info[0]).read().splitlines()\n",
    "    except UnicodeDecodeError:\n",
    "        return None\n",
    "    lines = list(filter(lambda x: x != '', lines))\n",
    "    data_dict = {}\n",
    "    data_dict['Id'] = file_info[1]\n",
    "    data_dict['Title'] = [lines[0]]\n",
    "    cat = ''\n",
    "    for line in lines[1:]:\n",
    "        cat += line\n",
    "    data_dict['Content'] = [cat]\n",
    "    data_dict['Category'] = [category]\n",
    "    \n",
    "    return pd.DataFrame(data = data_dict)\n",
    "\n",
    "\n"
   ]
  },
  {
   "cell_type": "code",
   "execution_count": 23,
   "metadata": {},
   "outputs": [],
   "source": [
    "categories = ['business','entertainment', 'politics', 'sport', 'tech']\n",
    "num = 1\n",
    "\n",
    "df_set = pd.DataFrame(columns = ['Id', 'Title', 'Content', 'Category'])\n",
    "df_test = pd.DataFrame(columns = ['Id', 'Title', 'Content', 'Category'])\n",
    "\n",
    "for cat in categories:\n",
    "    filepaths = [f for f in os.listdir(\"../../data/\" + cat) if f.endswith('.txt')]\n",
    "    business_ids = [str(num) + f.split('.txt')[0] for f in filepaths ]\n",
    "    filepaths = list(map(lambda x: '../../data/' + cat + '/' + x, filepaths))\n",
    "    file_info = list(zip(filepaths, business_ids))\n",
    "\n",
    "    cat_df = pd.concat(map(lambda f: read_file(f, cat), file_info), ignore_index = True)\n",
    "\n",
    "    df_set = df_set.append(cat_df.head(math.ceil(0.8*cat_df.shape[0])), ignore_index = True)\n",
    "\n",
    "    df_test = df_test.append(cat_df.tail(math.ceil(0.2*cat_df.shape[0])), ignore_index = True)\n",
    "\n",
    "    num += 1\n",
    "\n"
   ]
  },
  {
   "cell_type": "code",
   "execution_count": 24,
   "metadata": {},
   "outputs": [
    {
     "output_type": "execute_result",
     "data": {
      "text/plain": "        Id                              Title  \\\n58    1034   Rover deal 'may cost 2,000 jobs'   \n281   1008   India calls for fair trade rules   \n1550  5011  UK net users leading TV downloads   \n452   2034       Vera Drake scoops film award   \n1699  5172  Gadget show heralds MP3 Christmas   \n...    ...                                ...   \n1603  5265   Half of UK's mobiles 'go online'   \n502   2213    TV show unites Angolan families   \n537   2214    Volcano drama erupts on BBC One   \n1220  4322             Scotland v Italy (Sat)   \n175   1370           US manufacturing expands   \n\n                                                Content       Category  \n58    Some 2,000 jobs at MG Rover's Midlands plant m...       business  \n281   India, which attends the G7 meeting of seven l...       business  \n1550  British TV viewers lead the trend of illegally...           tech  \n452   Oscar hopefuls Mike Leigh and Imelda Staunton ...  entertainment  \n1699  Partners of those who love their hi-tech gear ...           tech  \n...                                                 ...            ...  \n1603  Multimedia mobile phones are finally showing s...           tech  \n502   Angolan families who are attempting to track e...  entertainment  \n537   Supervolcano, a docu-drama about a volcanic er...  entertainment  \n1220  Murrayfield, EdinburghSaturday, 26 February140...          sport  \n175   US industrial production increased in December...       business  \n\n[1780 rows x 4 columns]",
      "text/html": "<div>\n<style scoped>\n    .dataframe tbody tr th:only-of-type {\n        vertical-align: middle;\n    }\n\n    .dataframe tbody tr th {\n        vertical-align: top;\n    }\n\n    .dataframe thead th {\n        text-align: right;\n    }\n</style>\n<table border=\"1\" class=\"dataframe\">\n  <thead>\n    <tr style=\"text-align: right;\">\n      <th></th>\n      <th>Id</th>\n      <th>Title</th>\n      <th>Content</th>\n      <th>Category</th>\n    </tr>\n  </thead>\n  <tbody>\n    <tr>\n      <th>58</th>\n      <td>1034</td>\n      <td>Rover deal 'may cost 2,000 jobs'</td>\n      <td>Some 2,000 jobs at MG Rover's Midlands plant m...</td>\n      <td>business</td>\n    </tr>\n    <tr>\n      <th>281</th>\n      <td>1008</td>\n      <td>India calls for fair trade rules</td>\n      <td>India, which attends the G7 meeting of seven l...</td>\n      <td>business</td>\n    </tr>\n    <tr>\n      <th>1550</th>\n      <td>5011</td>\n      <td>UK net users leading TV downloads</td>\n      <td>British TV viewers lead the trend of illegally...</td>\n      <td>tech</td>\n    </tr>\n    <tr>\n      <th>452</th>\n      <td>2034</td>\n      <td>Vera Drake scoops film award</td>\n      <td>Oscar hopefuls Mike Leigh and Imelda Staunton ...</td>\n      <td>entertainment</td>\n    </tr>\n    <tr>\n      <th>1699</th>\n      <td>5172</td>\n      <td>Gadget show heralds MP3 Christmas</td>\n      <td>Partners of those who love their hi-tech gear ...</td>\n      <td>tech</td>\n    </tr>\n    <tr>\n      <th>...</th>\n      <td>...</td>\n      <td>...</td>\n      <td>...</td>\n      <td>...</td>\n    </tr>\n    <tr>\n      <th>1603</th>\n      <td>5265</td>\n      <td>Half of UK's mobiles 'go online'</td>\n      <td>Multimedia mobile phones are finally showing s...</td>\n      <td>tech</td>\n    </tr>\n    <tr>\n      <th>502</th>\n      <td>2213</td>\n      <td>TV show unites Angolan families</td>\n      <td>Angolan families who are attempting to track e...</td>\n      <td>entertainment</td>\n    </tr>\n    <tr>\n      <th>537</th>\n      <td>2214</td>\n      <td>Volcano drama erupts on BBC One</td>\n      <td>Supervolcano, a docu-drama about a volcanic er...</td>\n      <td>entertainment</td>\n    </tr>\n    <tr>\n      <th>1220</th>\n      <td>4322</td>\n      <td>Scotland v Italy (Sat)</td>\n      <td>Murrayfield, EdinburghSaturday, 26 February140...</td>\n      <td>sport</td>\n    </tr>\n    <tr>\n      <th>175</th>\n      <td>1370</td>\n      <td>US manufacturing expands</td>\n      <td>US industrial production increased in December...</td>\n      <td>business</td>\n    </tr>\n  </tbody>\n</table>\n<p>1780 rows × 4 columns</p>\n</div>"
     },
     "metadata": {},
     "execution_count": 24
    }
   ],
   "source": [
    "# shuffle the dataframe so that the articles' categories are mixed up\n",
    "df_set = df_set.sample(frac = 1, random_state = 7)\n",
    "df_set"
   ]
  },
  {
   "cell_type": "code",
   "execution_count": 25,
   "metadata": {},
   "outputs": [
    {
     "output_type": "execute_result",
     "data": {
      "text/plain": "       Id                              Title  \\\n259  3209  Abbas 'will not tolerate' attacks   \n109  2348  Berlin celebrates European cinema   \n60   1461  Beijingers fume over parking fees   \n330  4200    Ferguson urges Henry punishment   \n170  2262       U2's desire to be number one   \n..    ...                                ...   \n211  3153  Clarke to unveil immigration plan   \n67   1341   Jarvis sells Tube stake to Spain   \n25   1352  Share boost for feud-hit Reliance   \n196  3369  BAA support ahead of court battle   \n175  2250  Prince crowned 'top music earner'   \n\n                                               Content       Category  \n259  Palestinian leader Mahmoud Abbas has said he w...       politics  \n109  Organisers say this year's Berlin Film Festiva...  entertainment  \n60   Choking traffic jams in Beijing are prompting ...       business  \n330  Sir Alex Ferguson has called on the Football A...          sport  \n170  U2, who have won three prestigious Grammy Awar...  entertainment  \n..                                                 ...            ...  \n211  New controls on economic migrants and tighter ...       politics  \n67   Shares in engineering group Jarvis have soared...       business  \n25   The board of Indian conglomerate Reliance has ...       business  \n196  UK airport operator BAA has reiterated its sup...       politics  \n175  Prince earned more than any other pop star in ...  entertainment  \n\n[447 rows x 4 columns]",
      "text/html": "<div>\n<style scoped>\n    .dataframe tbody tr th:only-of-type {\n        vertical-align: middle;\n    }\n\n    .dataframe tbody tr th {\n        vertical-align: top;\n    }\n\n    .dataframe thead th {\n        text-align: right;\n    }\n</style>\n<table border=\"1\" class=\"dataframe\">\n  <thead>\n    <tr style=\"text-align: right;\">\n      <th></th>\n      <th>Id</th>\n      <th>Title</th>\n      <th>Content</th>\n      <th>Category</th>\n    </tr>\n  </thead>\n  <tbody>\n    <tr>\n      <th>259</th>\n      <td>3209</td>\n      <td>Abbas 'will not tolerate' attacks</td>\n      <td>Palestinian leader Mahmoud Abbas has said he w...</td>\n      <td>politics</td>\n    </tr>\n    <tr>\n      <th>109</th>\n      <td>2348</td>\n      <td>Berlin celebrates European cinema</td>\n      <td>Organisers say this year's Berlin Film Festiva...</td>\n      <td>entertainment</td>\n    </tr>\n    <tr>\n      <th>60</th>\n      <td>1461</td>\n      <td>Beijingers fume over parking fees</td>\n      <td>Choking traffic jams in Beijing are prompting ...</td>\n      <td>business</td>\n    </tr>\n    <tr>\n      <th>330</th>\n      <td>4200</td>\n      <td>Ferguson urges Henry punishment</td>\n      <td>Sir Alex Ferguson has called on the Football A...</td>\n      <td>sport</td>\n    </tr>\n    <tr>\n      <th>170</th>\n      <td>2262</td>\n      <td>U2's desire to be number one</td>\n      <td>U2, who have won three prestigious Grammy Awar...</td>\n      <td>entertainment</td>\n    </tr>\n    <tr>\n      <th>...</th>\n      <td>...</td>\n      <td>...</td>\n      <td>...</td>\n      <td>...</td>\n    </tr>\n    <tr>\n      <th>211</th>\n      <td>3153</td>\n      <td>Clarke to unveil immigration plan</td>\n      <td>New controls on economic migrants and tighter ...</td>\n      <td>politics</td>\n    </tr>\n    <tr>\n      <th>67</th>\n      <td>1341</td>\n      <td>Jarvis sells Tube stake to Spain</td>\n      <td>Shares in engineering group Jarvis have soared...</td>\n      <td>business</td>\n    </tr>\n    <tr>\n      <th>25</th>\n      <td>1352</td>\n      <td>Share boost for feud-hit Reliance</td>\n      <td>The board of Indian conglomerate Reliance has ...</td>\n      <td>business</td>\n    </tr>\n    <tr>\n      <th>196</th>\n      <td>3369</td>\n      <td>BAA support ahead of court battle</td>\n      <td>UK airport operator BAA has reiterated its sup...</td>\n      <td>politics</td>\n    </tr>\n    <tr>\n      <th>175</th>\n      <td>2250</td>\n      <td>Prince crowned 'top music earner'</td>\n      <td>Prince earned more than any other pop star in ...</td>\n      <td>entertainment</td>\n    </tr>\n  </tbody>\n</table>\n<p>447 rows × 4 columns</p>\n</div>"
     },
     "metadata": {},
     "execution_count": 25
    }
   ],
   "source": [
    "# shuffle the dataframe so that the articles' categories are mixed up, then drop the 'Category' column\n",
    "df_test = df_test.sample(frac = 1, random_state = 7)\n",
    "# df_test = df_test.drop(columns = 'Category')\n",
    "df_test"
   ]
  },
  {
   "cell_type": "code",
   "execution_count": 26,
   "metadata": {},
   "outputs": [],
   "source": [
    "path_set = r'../data/train_set.tsv'\n",
    "df_set.to_csv(path_set, sep = '\\t', index = False)\n",
    "\n",
    "path_test = r'../data/test_set.tsv'\n",
    "df_test.to_csv(path_test, sep = '\\t', index = False)"
   ]
  },
  {
   "cell_type": "code",
   "execution_count": null,
   "metadata": {},
   "outputs": [],
   "source": []
  }
 ],
 "metadata": {
  "language_info": {
   "codemirror_mode": {
    "name": "ipython",
    "version": 3
   },
   "file_extension": ".py",
   "mimetype": "text/x-python",
   "name": "python",
   "nbconvert_exporter": "python",
   "pygments_lexer": "ipython3",
   "version": "3.7.6-final"
  },
  "orig_nbformat": 2,
  "kernelspec": {
   "name": "python3",
   "display_name": "Python 3"
  }
 },
 "nbformat": 4,
 "nbformat_minor": 2
}